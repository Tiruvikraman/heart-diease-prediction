{
 "cells": [
  {
   "cell_type": "code",
   "execution_count": 1,
   "metadata": {},
   "outputs": [],
   "source": [
    "import pandas as pd\n",
    "import numpy as np\n",
    "df=pd.read_csv(r\"C:\\Users\\tiruv\\Downloads\\Job Datsset.csv\")"
   ]
  },
  {
   "cell_type": "code",
   "execution_count": 2,
   "metadata": {},
   "outputs": [
    {
     "data": {
      "text/html": [
       "<div>\n",
       "<style scoped>\n",
       "    .dataframe tbody tr th:only-of-type {\n",
       "        vertical-align: middle;\n",
       "    }\n",
       "\n",
       "    .dataframe tbody tr th {\n",
       "        vertical-align: top;\n",
       "    }\n",
       "\n",
       "    .dataframe thead th {\n",
       "        text-align: right;\n",
       "    }\n",
       "</style>\n",
       "<table border=\"1\" class=\"dataframe\">\n",
       "  <thead>\n",
       "    <tr style=\"text-align: right;\">\n",
       "      <th></th>\n",
       "      <th>User_ID</th>\n",
       "      <th>Job_ID</th>\n",
       "      <th>User_Skills</th>\n",
       "      <th>Job_Requirements</th>\n",
       "      <th>Match_Score</th>\n",
       "      <th>Recommended</th>\n",
       "    </tr>\n",
       "  </thead>\n",
       "  <tbody>\n",
       "    <tr>\n",
       "      <th>0</th>\n",
       "      <td>1</td>\n",
       "      <td>16</td>\n",
       "      <td>Python, C++, Machine Learning</td>\n",
       "      <td>SQL, CSS, AI, JavaScript, Data Science</td>\n",
       "      <td>0.620421</td>\n",
       "      <td>0</td>\n",
       "    </tr>\n",
       "    <tr>\n",
       "      <th>1</th>\n",
       "      <td>2</td>\n",
       "      <td>30</td>\n",
       "      <td>AI, Python, Data Science</td>\n",
       "      <td>AI, Data Science, SQL, Python, CSS</td>\n",
       "      <td>0.823451</td>\n",
       "      <td>1</td>\n",
       "    </tr>\n",
       "    <tr>\n",
       "      <th>2</th>\n",
       "      <td>3</td>\n",
       "      <td>319</td>\n",
       "      <td>CSS, Python, Machine Learning</td>\n",
       "      <td>SQL, AI, Python</td>\n",
       "      <td>0.703830</td>\n",
       "      <td>0</td>\n",
       "    </tr>\n",
       "    <tr>\n",
       "      <th>3</th>\n",
       "      <td>4</td>\n",
       "      <td>399</td>\n",
       "      <td>SQL, Machine Learning, C++</td>\n",
       "      <td>Java, AI, Python, Data Science, Machine Learning</td>\n",
       "      <td>0.224724</td>\n",
       "      <td>0</td>\n",
       "    </tr>\n",
       "    <tr>\n",
       "      <th>4</th>\n",
       "      <td>5</td>\n",
       "      <td>405</td>\n",
       "      <td>Machine Learning, HTML, JavaScript</td>\n",
       "      <td>Machine Learning, C++</td>\n",
       "      <td>0.296453</td>\n",
       "      <td>0</td>\n",
       "    </tr>\n",
       "  </tbody>\n",
       "</table>\n",
       "</div>"
      ],
      "text/plain": [
       "   User_ID  Job_ID                         User_Skills  \\\n",
       "0        1      16       Python, C++, Machine Learning   \n",
       "1        2      30            AI, Python, Data Science   \n",
       "2        3     319       CSS, Python, Machine Learning   \n",
       "3        4     399          SQL, Machine Learning, C++   \n",
       "4        5     405  Machine Learning, HTML, JavaScript   \n",
       "\n",
       "                                   Job_Requirements  Match_Score  Recommended  \n",
       "0            SQL, CSS, AI, JavaScript, Data Science     0.620421            0  \n",
       "1                AI, Data Science, SQL, Python, CSS     0.823451            1  \n",
       "2                                   SQL, AI, Python     0.703830            0  \n",
       "3  Java, AI, Python, Data Science, Machine Learning     0.224724            0  \n",
       "4                             Machine Learning, C++     0.296453            0  "
      ]
     },
     "execution_count": 2,
     "metadata": {},
     "output_type": "execute_result"
    }
   ],
   "source": [
    "df.head()"
   ]
  },
  {
   "cell_type": "code",
   "execution_count": 5,
   "metadata": {},
   "outputs": [
    {
     "name": "stdout",
     "output_type": "stream",
     "text": [
      "Comparison between User_ID 1 and User_ID 4:\n",
      "Jaccard Similarity: 0.5\n",
      "Cosine Similarity: 0.6666666666666667\n",
      "The users have similar skills. Recommendation: Yes.\n"
     ]
    }
   ],
   "source": [
    "import pandas as pd\n",
    "import math\n",
    "\n",
    "def jaccard_similarity(user_skills1, user_skills2):\n",
    "    set1 = set(user_skills1.split(', '))\n",
    "    set2 = set(user_skills2.split(', '))\n",
    "    \n",
    "    intersection = len(set1.intersection(set2))\n",
    "    union = len(set1.union(set2))\n",
    "    \n",
    "    if union == 0:\n",
    "        return 0\n",
    "    return intersection / union\n",
    "\n",
    "# Function to calculate Cosine Similarity\n",
    "def cosine_similarity(user_skills1, user_skills2):\n",
    "    skills_list1 = user_skills1.split(', ')\n",
    "    skills_list2 = user_skills2.split(', ')\n",
    "    \n",
    "    all_skills = list(set(skills_list1).union(set(skills_list2)))\n",
    "    \n",
    "    vec1 = [1 if skill in skills_list1 else 0 for skill in all_skills]\n",
    "    vec2 = [1 if skill in skills_list2 else 0 for skill in all_skills]\n",
    "    \n",
    "    dot_product = sum([vec1[i] * vec2[i] for i in range(len(all_skills))])\n",
    "    magnitude1 = math.sqrt(sum([v**2 for v in vec1]))\n",
    "    magnitude2 = math.sqrt(sum([v**2 for v in vec2]))\n",
    "    \n",
    "    if magnitude1 == 0 or magnitude2 == 0:\n",
    "        return 0\n",
    "    \n",
    "    return dot_product / (magnitude1 * magnitude2)\n",
    "\n",
    "\n",
    "# Input two user IDs for comparison\n",
    "user_id1 =1\n",
    "user_id2 =4\n",
    "\n",
    "# Extract user skills based on User_ID\n",
    "user1_skills = df.loc[df['User_ID'] == user_id1, 'User_Skills'].values[0]\n",
    "user2_skills = df.loc[df['User_ID'] == user_id2, 'User_Skills'].values[0]\n",
    "\n",
    "# Calculate similarities\n",
    "jaccard_score = jaccard_similarity(user1_skills, user2_skills)\n",
    "cosine_score = cosine_similarity(user1_skills, user2_skills)\n",
    "if jaccard_score > 0.5 or cosine_score > 0.5:\n",
    "    recommendation = \"The users have similar skills. Recommendation: Yes.\"\n",
    "else:\n",
    "    recommendation = \"The users do not have similar skills. Recommendation: No.\"\n",
    "\n",
    "# Output the results\n",
    "print(f\"Comparison between User_ID {user_id1} and User_ID {user_id2}:\")\n",
    "print(f\"Jaccard Similarity: {jaccard_score}\")\n",
    "print(f\"Cosine Similarity: {cosine_score}\")\n",
    "print(recommendation)\n"
   ]
  },
  {
   "cell_type": "code",
   "execution_count": 6,
   "metadata": {},
   "outputs": [],
   "source": [
    "str='jhvhjua'\n",
    "s=sorted(str)[0]"
   ]
  },
  {
   "cell_type": "code",
   "execution_count": 7,
   "metadata": {},
   "outputs": [],
   "source": [
    "idx=str.index(s)"
   ]
  },
  {
   "cell_type": "code",
   "execution_count": 8,
   "metadata": {},
   "outputs": [
    {
     "data": {
      "text/plain": [
       "6"
      ]
     },
     "execution_count": 8,
     "metadata": {},
     "output_type": "execute_result"
    }
   ],
   "source": [
    "idx"
   ]
  },
  {
   "cell_type": "code",
   "execution_count": null,
   "metadata": {},
   "outputs": [],
   "source": []
  }
 ],
 "metadata": {
  "kernelspec": {
   "display_name": "Python 3",
   "language": "python",
   "name": "python3"
  },
  "language_info": {
   "codemirror_mode": {
    "name": "ipython",
    "version": 3
   },
   "file_extension": ".py",
   "mimetype": "text/x-python",
   "name": "python",
   "nbconvert_exporter": "python",
   "pygments_lexer": "ipython3",
   "version": "3.12.2"
  }
 },
 "nbformat": 4,
 "nbformat_minor": 2
}
